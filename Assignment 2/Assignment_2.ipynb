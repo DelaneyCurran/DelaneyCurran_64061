{
  "nbformat": 4,
  "nbformat_minor": 0,
  "metadata": {
    "colab": {
      "provenance": []
    },
    "kernelspec": {
      "name": "python3",
      "display_name": "Python 3"
    },
    "language_info": {
      "name": "python"
    }
  },
  "cells": [
    {
      "cell_type": "markdown",
      "source": [
        "I know that I do not have any answers. I could not get my file to upload. I thought I would at least be able to get some points for the code I would use if the file was able to get uploaded. Im sorry."
      ],
      "metadata": {
        "id": "yjc5rc-MzulQ"
      }
    },
    {
      "cell_type": "code",
      "execution_count": 6,
      "metadata": {
        "id": "Ya5ZkGZ5dswq"
      },
      "outputs": [],
      "source": [
        "# Import necessary libraries\n",
        "import tensorflow as tf\n",
        "from tensorflow.keras import layers, models\n",
        "from tensorflow.keras.preprocessing.image import ImageDataGenerator\n",
        "from tensorflow.keras.applications import VGG16  # Use a pretrained model of your choice\n",
        "\n"
      ]
    },
    {
      "cell_type": "code",
      "source": [
        "# Define data paths\n",
        "train_data_dir = 'path_to_training_data'\n",
        "val_data_dir = 'path_to_validation_data'\n",
        "test_data_dir = 'path_to_test_data'"
      ],
      "metadata": {
        "id": "PTMM8v-pozDP"
      },
      "execution_count": 7,
      "outputs": []
    },
    {
      "cell_type": "code",
      "source": [
        "# Common data preprocessing\n",
        "image_size = (150, 150)\n",
        "batch_size = 32"
      ],
      "metadata": {
        "id": "yE8itSDHwvAi"
      },
      "execution_count": 8,
      "outputs": []
    },
    {
      "cell_type": "code",
      "source": [
        "train_datagen = ImageDataGenerator(\n",
        "    rescale=1.0/255.0,\n",
        "    rotation_range=40,\n",
        "    width_shift_range=0.2,\n",
        "    height_shift_range=0.2,\n",
        "    shear_range=0.2,\n",
        "    zoom_range=0.2,\n",
        "    horizontal_flip=True,\n",
        "    fill_mode='nearest')\n"
      ],
      "metadata": {
        "id": "mXlnxFTRwxTl"
      },
      "execution_count": 9,
      "outputs": []
    },
    {
      "cell_type": "code",
      "source": [
        "test_datagen = ImageDataGenerator(rescale=1.0/255.0)"
      ],
      "metadata": {
        "id": "oq5hNQsIw0Ov"
      },
      "execution_count": 10,
      "outputs": []
    },
    {
      "cell_type": "code",
      "source": [
        "train_generator = train_datagen.flow_from_directory(\n",
        "    train_data_dir,\n",
        "    target_size=image_size,\n",
        "    batch_size=batch_size,\n",
        "    class_mode='binary')"
      ],
      "metadata": {
        "id": "mUCHgiMlw0Sp"
      },
      "execution_count": null,
      "outputs": []
    },
    {
      "cell_type": "code",
      "source": [
        "val_generator = test_datagen.flow_from_directory(\n",
        "    val_data_dir,\n",
        "    target_size=image_size,\n",
        "    batch_size=batch_size,\n",
        "    class_mode='binary')"
      ],
      "metadata": {
        "id": "9iC6rVQcw7X_"
      },
      "execution_count": null,
      "outputs": []
    },
    {
      "cell_type": "code",
      "source": [
        "test_generator = test_datagen.flow_from_directory(\n",
        "    test_data_dir,\n",
        "    target_size=image_size,\n",
        "    batch_size=batch_size,\n",
        "    class_mode='binary')"
      ],
      "metadata": {
        "id": "icjsfP2Sw_4I"
      },
      "execution_count": null,
      "outputs": []
    },
    {
      "cell_type": "code",
      "source": [
        "# Part 1: Training a ConvNet from Scratch with 1000 Training Samples\n",
        "model = models.Sequential()"
      ],
      "metadata": {
        "id": "jvbAL6L6xFfK"
      },
      "execution_count": 29,
      "outputs": []
    },
    {
      "cell_type": "code",
      "source": [
        "# Compile the model and train it with 1000 training samples.\n",
        "model.fit(train_generator, epochs=10, validation_data=val_generator)"
      ],
      "metadata": {
        "id": "7sZMNLh-xFw9"
      },
      "execution_count": null,
      "outputs": []
    },
    {
      "cell_type": "code",
      "source": [
        "# Evaluate the model on the test dataset.\n",
        "test_loss, test_acc = model.evaluate(test_generator)\n",
        "print(\"Test accuracy (Part 1):\", test_acc)"
      ],
      "metadata": {
        "id": "l98_-mmyxF1i"
      },
      "execution_count": null,
      "outputs": []
    },
    {
      "cell_type": "code",
      "source": [
        "# Part 2: Increasing Training Sample Size\n",
        "new_train_data_dir = 'path_to_larger_training_data'  # Replace with the path to your larger dataset"
      ],
      "metadata": {
        "id": "CPYyqpy4xF6G"
      },
      "execution_count": 18,
      "outputs": []
    },
    {
      "cell_type": "code",
      "source": [
        "new_train_datagen = ImageDataGenerator(\n",
        "    rescale=1.0/255.0,\n",
        "    rotation_range=40,\n",
        "    width_shift_range=0.2,\n",
        "    height_shift_range=0.2,\n",
        "    shear_range=0.2,\n",
        "    zoom_range=0.2,\n",
        "    horizontal_flip=True,\n",
        "    fill_mode='nearest')"
      ],
      "metadata": {
        "id": "xIB7dzhSxF-o"
      },
      "execution_count": 19,
      "outputs": []
    },
    {
      "cell_type": "code",
      "source": [
        "new_train_generator = new_train_datagen.flow_from_directory(\n",
        "    new_train_data_dir,\n",
        "    target_size=image_size,\n",
        "    batch_size=batch_size,\n",
        "    class_mode='binary')"
      ],
      "metadata": {
        "id": "MFAOgr8HxGCk"
      },
      "execution_count": null,
      "outputs": []
    },
    {
      "cell_type": "code",
      "source": [
        "# Train the model with the larger training dataset.\n",
        "model.fit(new_train_generator, epochs=10, validation_data=val_generator)"
      ],
      "metadata": {
        "id": "iw8Woe9VxGEM"
      },
      "execution_count": null,
      "outputs": []
    },
    {
      "cell_type": "code",
      "source": [
        "# Evaluate the model on the test dataset.\n",
        "test_loss, test_acc = model.evaluate(test_generator)\n",
        "print(\"Test accuracy (Part 2):\", test_acc)"
      ],
      "metadata": {
        "id": "aYNZkqjMxGJd"
      },
      "execution_count": null,
      "outputs": []
    },
    {
      "cell_type": "code",
      "source": [
        "# Part 3: Changing the Training Sample Size\n",
        "custom_train_data_dir = 'path_to_custom_training_data'  # Customize this based on your chosen sample size\n"
      ],
      "metadata": {
        "id": "isPkHG_FxoP_"
      },
      "execution_count": 23,
      "outputs": []
    },
    {
      "cell_type": "code",
      "source": [
        "custom_train_datagen = ImageDataGenerator(\n",
        "    rescale=1.0/255.0,\n",
        "    rotation_range=40,\n",
        "    width_shift_range=0.2,\n",
        "    height_shift_range=0.2,\n",
        "    shear_range=0.2,\n",
        "    zoom_range=0.2,\n",
        "    horizontal_flip=True,\n",
        "    fill_mode='nearest')"
      ],
      "metadata": {
        "id": "DxKgSWmoxoUW"
      },
      "execution_count": 24,
      "outputs": []
    },
    {
      "cell_type": "code",
      "source": [
        "custom_train_generator = custom_train_datagen.flow_from_directory(\n",
        "    custom_train_data_dir,\n",
        "    target_size=image_size,\n",
        "    batch_size=batch_size,\n",
        "    class_mode='binary')\n"
      ],
      "metadata": {
        "id": "-7bD9Ut-xoZO"
      },
      "execution_count": null,
      "outputs": []
    },
    {
      "cell_type": "code",
      "source": [
        "# Train the model with the custom training dataset.\n",
        "model.fit(custom_train_generator, epochs=10, validation_data=val_generator)"
      ],
      "metadata": {
        "id": "pEj1xeD4xob8"
      },
      "execution_count": null,
      "outputs": []
    },
    {
      "cell_type": "code",
      "source": [
        "# Evaluate the model on the test dataset.\n",
        "test_loss, test_acc = model.evaluate(test_generator)\n",
        "print(\"Test accuracy (Part 3):\", test_acc)"
      ],
      "metadata": {
        "id": "MFN6ShDRxohy"
      },
      "execution_count": null,
      "outputs": []
    },
    {
      "cell_type": "code",
      "source": [
        "# Part 4: Using a Pretrained Network\n",
        "pretrained_model = VGG16(weights='imagenet', include_top=False, input_shape=(image_size[0], image_size[1], 3))"
      ],
      "metadata": {
        "colab": {
          "base_uri": "https://localhost:8080/"
        },
        "id": "cSKYzs3txokH",
        "outputId": "66429d8e-f00c-4697-a946-29c983b5b4c4"
      },
      "execution_count": 28,
      "outputs": [
        {
          "output_type": "stream",
          "name": "stdout",
          "text": [
            "Downloading data from https://storage.googleapis.com/tensorflow/keras-applications/vgg16/vgg16_weights_tf_dim_ordering_tf_kernels_notop.h5\n",
            "58889256/58889256 [==============================] - 0s 0us/step\n"
          ]
        }
      ]
    }
  ]
}