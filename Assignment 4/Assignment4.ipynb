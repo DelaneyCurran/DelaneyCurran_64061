{
  "nbformat": 4,
  "nbformat_minor": 0,
  "metadata": {
    "colab": {
      "provenance": []
    },
    "kernelspec": {
      "name": "python3",
      "display_name": "Python 3"
    },
    "language_info": {
      "name": "python"
    }
  },
  "cells": [
    {
      "cell_type": "code",
      "execution_count": 1,
      "metadata": {
        "id": "pHcPvCS0rS6l"
      },
      "outputs": [],
      "source": [
        "from tensorflow.keras.datasets import imdb\n",
        "from tensorflow.keras.preprocessing import sequence\n",
        "from tensorflow.keras.models import Sequential\n",
        "from tensorflow.keras.layers import Embedding, SimpleRNN, LSTM, Dense"
      ]
    },
    {
      "cell_type": "code",
      "source": [
        "import pandas as pd\n",
        "import numpy as np\n",
        "import seaborn as sns\n",
        "import matplotlib.pyplot as plt\n",
        "%matplotlib inline\n",
        "import logging\n",
        "logging.getLogger('tensorflow').disabled = True"
      ],
      "metadata": {
        "id": "uZuPOHSsu8Qu"
      },
      "execution_count": 5,
      "outputs": []
    },
    {
      "cell_type": "code",
      "source": [
        "from tensorflow import keras\n",
        "from tensorflow.keras import layers\n",
        "from sklearn.model_selection import train_test_split\n",
        "from keras import preprocessing\n",
        "from keras.preprocessing.text import Tokenizer\n",
        "from tensorflow.keras.preprocessing.sequence import pad_sequences\n",
        "from keras.datasets import imdb\n",
        "from keras.models import Sequential\n",
        "from keras.layers import Flatten, Dense, Embedding, LSTM,  Conv1D, MaxPooling1D, GlobalMaxPooling1D, Dropout\n",
        "from keras.models import load_model\n",
        "from keras.optimizers import RMSprop\n",
        "from tensorflow.keras.callbacks import EarlyStopping\n",
        "from tensorflow.keras.callbacks import ModelCheckpoint\n",
        "from tensorflow.keras.optimizers import Adam\n",
        "from google.colab import files\n",
        "import re, os"
      ],
      "metadata": {
        "id": "1nWORrgYvBfF"
      },
      "execution_count": 6,
      "outputs": []
    },
    {
      "cell_type": "code",
      "source": [
        "from tensorflow.keras.models import Sequential\n",
        "from tensorflow.keras.layers import Embedding, SimpleRNN, Dense\n",
        "from tensorflow.keras.preprocessing.sequence import pad_sequences"
      ],
      "metadata": {
        "id": "MORFmKNC4rX1"
      },
      "execution_count": 22,
      "outputs": []
    },
    {
      "cell_type": "code",
      "source": [
        "num_words = 10000\n",
        "maxlen = 150"
      ],
      "metadata": {
        "id": "0H8r3BXE4rmw"
      },
      "execution_count": 23,
      "outputs": []
    },
    {
      "cell_type": "code",
      "source": [
        "(train_data, train_labels), (test_data, test_labels) = imdb.load_data(num_words=num_words)\n",
        "train_data = pad_sequences(train_data, maxlen=maxlen)\n",
        "test_data = pad_sequences(test_data, maxlen=maxlen)"
      ],
      "metadata": {
        "id": "ZS3CEeS24rp9"
      },
      "execution_count": 24,
      "outputs": []
    },
    {
      "cell_type": "code",
      "source": [
        "# Combine train and test data for further processing\n",
        "texts = np.concatenate((train_data, test_data), axis=0)\n",
        "labels = np.concatenate((train_labels, test_labels), axis=0)"
      ],
      "metadata": {
        "id": "kvk5-_sb4rsX"
      },
      "execution_count": 25,
      "outputs": []
    },
    {
      "cell_type": "code",
      "source": [
        "# Restrict training samples to 100\n",
        "train_data = train_data[:100]\n",
        "train_labels = train_labels[:100]"
      ],
      "metadata": {
        "id": "r9k0mi9r4rwc"
      },
      "execution_count": 26,
      "outputs": []
    },
    {
      "cell_type": "code",
      "source": [
        "# Consider only the top 10,000 words\n",
        "train_data = train_data[:, :num_words]\n",
        "test_data = test_data[:, :num_words]"
      ],
      "metadata": {
        "id": "slHDkX2941-8"
      },
      "execution_count": 27,
      "outputs": []
    },
    {
      "cell_type": "code",
      "source": [
        "# Model with Embedding layer\n",
        "model_embedding = Sequential()\n",
        "model_embedding.add(Embedding(num_words, 32, input_length=maxlen))\n",
        "model_embedding.add(SimpleRNN(32))\n",
        "model_embedding.add(Dense(1, activation='sigmoid'))\n"
      ],
      "metadata": {
        "id": "o_sOuBnV42B6"
      },
      "execution_count": 28,
      "outputs": []
    },
    {
      "cell_type": "code",
      "source": [
        "model = Sequential()\n",
        "model.add(Embedding(10000, 8, input_length=maxlen))\n",
        "model.add(Flatten())\n",
        "model.add(Dense(1, activation = 'sigmoid'))\n",
        "model.compile(optimizer = 'rmsprop', loss = 'binary_crossentropy', metrics = ['accuracy'])\n",
        "model.summary()"
      ],
      "metadata": {
        "colab": {
          "base_uri": "https://localhost:8080/"
        },
        "id": "1J9LBY7U42FR",
        "outputId": "6c783131-9249-405e-9a9f-12570f43ccd0"
      },
      "execution_count": 41,
      "outputs": [
        {
          "output_type": "stream",
          "name": "stdout",
          "text": [
            "Model: \"sequential_6\"\n",
            "_________________________________________________________________\n",
            " Layer (type)                Output Shape              Param #   \n",
            "=================================================================\n",
            " embedding_2 (Embedding)     (None, 150, 8)            80000     \n",
            "                                                                 \n",
            " flatten_1 (Flatten)         (None, 1200)              0         \n",
            "                                                                 \n",
            " dense_2 (Dense)             (None, 1)                 1201      \n",
            "                                                                 \n",
            "=================================================================\n",
            "Total params: 81201 (317.19 KB)\n",
            "Trainable params: 81201 (317.19 KB)\n",
            "Non-trainable params: 0 (0.00 Byte)\n",
            "_________________________________________________________________\n"
          ]
        }
      ]
    },
    {
      "cell_type": "code",
      "source": [
        "model.compile(optimizer='rmsprop', loss='binary_crossentropy', metrics=['accuracy'])\n",
        "model.summary()"
      ],
      "metadata": {
        "colab": {
          "base_uri": "https://localhost:8080/"
        },
        "id": "CTGb3-Gg42JU",
        "outputId": "a11868aa-6045-402e-fdb6-f8472369c7bd"
      },
      "execution_count": 42,
      "outputs": [
        {
          "output_type": "stream",
          "name": "stdout",
          "text": [
            "Model: \"sequential_6\"\n",
            "_________________________________________________________________\n",
            " Layer (type)                Output Shape              Param #   \n",
            "=================================================================\n",
            " embedding_2 (Embedding)     (None, 150, 8)            80000     \n",
            "                                                                 \n",
            " flatten_1 (Flatten)         (None, 1200)              0         \n",
            "                                                                 \n",
            " dense_2 (Dense)             (None, 1)                 1201      \n",
            "                                                                 \n",
            "=================================================================\n",
            "Total params: 81201 (317.19 KB)\n",
            "Trainable params: 81201 (317.19 KB)\n",
            "Non-trainable params: 0 (0.00 Byte)\n",
            "_________________________________________________________________\n"
          ]
        }
      ]
    },
    {
      "cell_type": "code",
      "source": [
        "callbacks = ModelCheckpoint(\n",
        "    filepath=\"model1.h5\",\n",
        "    save_best_only=True,\n",
        "    monitor=\"val_loss\"\n",
        ")"
      ],
      "metadata": {
        "id": "R3m6Enqm4ry0"
      },
      "execution_count": 43,
      "outputs": []
    },
    {
      "cell_type": "code",
      "source": [
        "Model_1 = model.fit(train_data, train_labels,\n",
        "                    epochs=30,\n",
        "                    batch_size=32,\n",
        "                    validation_data=(val_texts, val_labels),\n",
        "                    callbacks=[callbacks])"
      ],
      "metadata": {
        "colab": {
          "base_uri": "https://localhost:8080/"
        },
        "id": "CW7H0OGB6vj6",
        "outputId": "9004b4a9-bae1-439c-e11e-0860037f1ae8"
      },
      "execution_count": 44,
      "outputs": [
        {
          "output_type": "stream",
          "name": "stdout",
          "text": [
            "Epoch 1/30\n",
            "4/4 [==============================] - 1s 236ms/step - loss: 0.6956 - accuracy: 0.4500 - val_loss: 0.6936 - val_accuracy: 0.4949\n",
            "Epoch 2/30\n",
            "1/4 [======>.......................] - ETA: 0s - loss: 0.6774 - accuracy: 0.8125"
          ]
        },
        {
          "output_type": "stream",
          "name": "stderr",
          "text": [
            "/usr/local/lib/python3.10/dist-packages/keras/src/engine/training.py:3079: UserWarning: You are saving your model as an HDF5 file via `model.save()`. This file format is considered legacy. We recommend using instead the native Keras format, e.g. `model.save('my_model.keras')`.\n",
            "  saving_api.save_model(\n"
          ]
        },
        {
          "output_type": "stream",
          "name": "stdout",
          "text": [
            "\b\b\b\b\b\b\b\b\b\b\b\b\b\b\b\b\b\b\b\b\b\b\b\b\b\b\b\b\b\b\b\b\b\b\b\b\b\b\b\b\b\b\b\b\b\b\b\b\b\b\b\b\b\b\b\b\b\b\b\b\b\b\b\b\b\b\b\b\b\b\b\b\b\b\b\b\b\b\b\b\r4/4 [==============================] - 1s 227ms/step - loss: 0.6730 - accuracy: 0.8300 - val_loss: 0.6936 - val_accuracy: 0.4964\n",
            "Epoch 3/30\n",
            "4/4 [==============================] - 1s 439ms/step - loss: 0.6576 - accuracy: 0.9400 - val_loss: 0.6936 - val_accuracy: 0.4954\n",
            "Epoch 4/30\n",
            "4/4 [==============================] - 1s 443ms/step - loss: 0.6442 - accuracy: 0.9600 - val_loss: 0.6933 - val_accuracy: 0.5001\n",
            "Epoch 5/30\n",
            "4/4 [==============================] - 1s 205ms/step - loss: 0.6310 - accuracy: 0.9800 - val_loss: 0.6935 - val_accuracy: 0.4991\n",
            "Epoch 6/30\n",
            "4/4 [==============================] - 1s 218ms/step - loss: 0.6183 - accuracy: 0.9800 - val_loss: 0.6936 - val_accuracy: 0.5002\n",
            "Epoch 7/30\n",
            "4/4 [==============================] - 1s 224ms/step - loss: 0.6047 - accuracy: 0.9900 - val_loss: 0.6932 - val_accuracy: 0.5065\n",
            "Epoch 8/30\n",
            "4/4 [==============================] - 1s 219ms/step - loss: 0.5910 - accuracy: 1.0000 - val_loss: 0.6932 - val_accuracy: 0.5047\n",
            "Epoch 9/30\n",
            "4/4 [==============================] - 1s 167ms/step - loss: 0.5767 - accuracy: 1.0000 - val_loss: 0.6932 - val_accuracy: 0.5068\n",
            "Epoch 10/30\n",
            "4/4 [==============================] - 0s 163ms/step - loss: 0.5623 - accuracy: 1.0000 - val_loss: 0.6928 - val_accuracy: 0.5140\n",
            "Epoch 11/30\n",
            "4/4 [==============================] - 1s 167ms/step - loss: 0.5473 - accuracy: 1.0000 - val_loss: 0.6928 - val_accuracy: 0.5141\n",
            "Epoch 12/30\n",
            "4/4 [==============================] - 0s 162ms/step - loss: 0.5317 - accuracy: 1.0000 - val_loss: 0.6929 - val_accuracy: 0.5122\n",
            "Epoch 13/30\n",
            "4/4 [==============================] - 0s 162ms/step - loss: 0.5157 - accuracy: 1.0000 - val_loss: 0.6929 - val_accuracy: 0.5119\n",
            "Epoch 14/30\n",
            "4/4 [==============================] - 1s 219ms/step - loss: 0.4999 - accuracy: 1.0000 - val_loss: 0.6929 - val_accuracy: 0.5112\n",
            "Epoch 15/30\n",
            "4/4 [==============================] - 1s 219ms/step - loss: 0.4833 - accuracy: 1.0000 - val_loss: 0.6928 - val_accuracy: 0.5155\n",
            "Epoch 16/30\n",
            "4/4 [==============================] - 1s 167ms/step - loss: 0.4664 - accuracy: 1.0000 - val_loss: 0.6928 - val_accuracy: 0.5156\n",
            "Epoch 17/30\n",
            "4/4 [==============================] - 1s 219ms/step - loss: 0.4493 - accuracy: 1.0000 - val_loss: 0.6930 - val_accuracy: 0.5141\n",
            "Epoch 18/30\n",
            "4/4 [==============================] - 1s 218ms/step - loss: 0.4320 - accuracy: 1.0000 - val_loss: 0.6935 - val_accuracy: 0.5123\n",
            "Epoch 19/30\n",
            "4/4 [==============================] - 1s 219ms/step - loss: 0.4147 - accuracy: 1.0000 - val_loss: 0.6936 - val_accuracy: 0.5127\n",
            "Epoch 20/30\n",
            "4/4 [==============================] - 1s 219ms/step - loss: 0.3972 - accuracy: 1.0000 - val_loss: 0.6941 - val_accuracy: 0.5120\n",
            "Epoch 21/30\n",
            "4/4 [==============================] - 1s 219ms/step - loss: 0.3804 - accuracy: 1.0000 - val_loss: 0.6938 - val_accuracy: 0.5128\n",
            "Epoch 22/30\n",
            "4/4 [==============================] - 1s 219ms/step - loss: 0.3629 - accuracy: 1.0000 - val_loss: 0.6941 - val_accuracy: 0.5142\n",
            "Epoch 23/30\n",
            "4/4 [==============================] - 1s 238ms/step - loss: 0.3462 - accuracy: 1.0000 - val_loss: 0.6938 - val_accuracy: 0.5158\n",
            "Epoch 24/30\n",
            "4/4 [==============================] - 1s 223ms/step - loss: 0.3291 - accuracy: 1.0000 - val_loss: 0.6941 - val_accuracy: 0.5172\n",
            "Epoch 25/30\n",
            "4/4 [==============================] - 1s 438ms/step - loss: 0.3122 - accuracy: 1.0000 - val_loss: 0.6938 - val_accuracy: 0.5185\n",
            "Epoch 26/30\n",
            "4/4 [==============================] - 1s 225ms/step - loss: 0.2962 - accuracy: 1.0000 - val_loss: 0.6943 - val_accuracy: 0.5198\n",
            "Epoch 27/30\n",
            "4/4 [==============================] - 1s 219ms/step - loss: 0.2798 - accuracy: 1.0000 - val_loss: 0.6944 - val_accuracy: 0.5205\n",
            "Epoch 28/30\n",
            "4/4 [==============================] - 1s 219ms/step - loss: 0.2642 - accuracy: 1.0000 - val_loss: 0.6948 - val_accuracy: 0.5216\n",
            "Epoch 29/30\n",
            "4/4 [==============================] - 1s 219ms/step - loss: 0.2493 - accuracy: 1.0000 - val_loss: 0.6949 - val_accuracy: 0.5225\n",
            "Epoch 30/30\n",
            "4/4 [==============================] - 0s 164ms/step - loss: 0.2348 - accuracy: 1.0000 - val_loss: 0.6952 - val_accuracy: 0.5209\n"
          ]
        }
      ]
    },
    {
      "cell_type": "code",
      "source": [
        "accuracy = Model_1.history['accuracy']\n",
        "val_accuracy = Model_1.history['val_accuracy']\n",
        "\n",
        "loss = Model_1.history[\"loss\"]\n",
        "val_loss = Model_1.history[\"val_loss\"]\n",
        "\n",
        "epochs = range(1, len(accuracy) + 1)\n",
        "\n",
        "plt.figure(figsize=(6,4))\n",
        "plt.plot(epochs, accuracy, color=\"black\", linestyle=\"solid\", label=\"Train Accuracy\")\n",
        "plt.plot(epochs, val_accuracy, color=\"red\",linestyle=\"solid\", label=\"Validation Accuracy\")\n",
        "plt.title(\"Accuracy\")\n",
        "plt.legend()\n",
        "plt.figure()\n",
        "\n",
        "plt.figure(figsize=(6,4))\n",
        "plt.plot(epochs, loss, color=\"black\", linestyle=\"solid\", label=\"Train Loss\")\n",
        "plt.plot(epochs, val_loss, color=\"red\", linestyle=\"solid\", label=\"Validation Loss\")\n",
        "plt.title(\"Loss\")\n",
        "plt.legend()\n",
        "plt.show()\n",
        ""
      ],
      "metadata": {
        "colab": {
          "base_uri": "https://localhost:8080/",
          "height": 783
        },
        "id": "xAsNU3cG9gWK",
        "outputId": "ee1c4bde-242e-4c6e-9a74-3ae8aa8a2501"
      },
      "execution_count": 52,
      "outputs": [
        {
          "output_type": "display_data",
          "data": {
            "text/plain": [
              "<Figure size 600x400 with 1 Axes>"
            ],
            "image/png": "[encoded data removed]"
          },
          "metadata": {}
        },
        {
          "output_type": "display_data",
          "data": {
            "text/plain": [
              "<Figure size 640x480 with 0 Axes>"
            ]
          },
          "metadata": {}
        },
        {
          "output_type": "display_data",
          "data": {
            "text/plain": [
              "<Figure size 600x400 with 1 Axes>"
            ],
            "image/png": "[encoded data removed]"
          },
          "metadata": {}
        }
      ]
    },
    {
      "cell_type": "code",
      "source": [
        "train_data_5000 = train_data[:5000]\n",
        "train_labels_5000 = train_labels[:5000]"
      ],
      "metadata": {
        "id": "T3dsoKFN_706"
      },
      "execution_count": 53,
      "outputs": []
    },
    {
      "cell_type": "code",
      "source": [
        "model_embedding_5000 = Sequential()\n",
        "model_embedding_5000.add(Embedding(num_words, 32, input_length=maxlen))\n",
        "model_embedding_5000.add(Flatten())\n",
        "model_embedding_5000.add(Dense(1, activation='sigmoid'))"
      ],
      "metadata": {
        "id": "FsX3tR3WABqG"
      },
      "execution_count": 54,
      "outputs": []
    },
    {
      "cell_type": "code",
      "source": [
        "model_embedding_5000.compile(optimizer='rmsprop', loss='binary_crossentropy', metrics=['accuracy'])\n",
        "model_embedding_5000.summary()"
      ],
      "metadata": {
        "colab": {
          "base_uri": "https://localhost:8080/"
        },
        "id": "_Kxr1LTwAFEe",
        "outputId": "5166f898-2c83-4908-eafa-b93b27fefcaa"
      },
      "execution_count": 55,
      "outputs": [
        {
          "output_type": "stream",
          "name": "stdout",
          "text": [
            "Model: \"sequential_7\"\n",
            "_________________________________________________________________\n",
            " Layer (type)                Output Shape              Param #   \n",
            "=================================================================\n",
            " embedding_3 (Embedding)     (None, 150, 32)           320000    \n",
            "                                                                 \n",
            " flatten_2 (Flatten)         (None, 4800)              0         \n",
            "                                                                 \n",
            " dense_3 (Dense)             (None, 1)                 4801      \n",
            "                                                                 \n",
            "=================================================================\n",
            "Total params: 324801 (1.24 MB)\n",
            "Trainable params: 324801 (1.24 MB)\n",
            "Non-trainable params: 0 (0.00 Byte)\n",
            "_________________________________________________________________\n"
          ]
        }
      ]
    },
    {
      "cell_type": "code",
      "source": [
        "callbacks_5000 = ModelCheckpoint(\n",
        "    filepath=\"model2.h5\",\n",
        "    save_best_only=True,\n",
        "    monitor=\"val_loss\"\n",
        ")"
      ],
      "metadata": {
        "id": "Qb4UiOJkAFIF"
      },
      "execution_count": 56,
      "outputs": []
    },
    {
      "cell_type": "code",
      "source": [
        "Model_2 = model.fit(train_data, train_labels,\n",
        "                    epochs=30,\n",
        "                    batch_size=32,\n",
        "                    validation_data=(val_texts, val_labels),\n",
        "                    callbacks=[callbacks])"
      ],
      "metadata": {
        "colab": {
          "base_uri": "https://localhost:8080/"
        },
        "id": "Sknk6_5qAgNL",
        "outputId": "5b767910-7367-4086-d1a7-e29d026ffcf9"
      },
      "execution_count": 59,
      "outputs": [
        {
          "output_type": "stream",
          "name": "stdout",
          "text": [
            "Epoch 1/30\n",
            "4/4 [==============================] - 1s 329ms/step - loss: 0.2209 - accuracy: 1.0000 - val_loss: 0.6957 - val_accuracy: 0.5219\n",
            "Epoch 2/30\n",
            "4/4 [==============================] - 0s 163ms/step - loss: 0.2077 - accuracy: 1.0000 - val_loss: 0.6961 - val_accuracy: 0.5235\n",
            "Epoch 3/30\n",
            "4/4 [==============================] - 1s 219ms/step - loss: 0.1949 - accuracy: 1.0000 - val_loss: 0.6962 - val_accuracy: 0.5237\n",
            "Epoch 4/30\n",
            "4/4 [==============================] - 1s 219ms/step - loss: 0.1828 - accuracy: 1.0000 - val_loss: 0.6962 - val_accuracy: 0.5252\n",
            "Epoch 5/30\n",
            "4/4 [==============================] - 1s 170ms/step - loss: 0.1715 - accuracy: 1.0000 - val_loss: 0.6969 - val_accuracy: 0.5266\n",
            "Epoch 6/30\n",
            "4/4 [==============================] - 1s 220ms/step - loss: 0.1608 - accuracy: 1.0000 - val_loss: 0.6973 - val_accuracy: 0.5269\n",
            "Epoch 7/30\n",
            "4/4 [==============================] - 1s 221ms/step - loss: 0.1506 - accuracy: 1.0000 - val_loss: 0.6978 - val_accuracy: 0.5266\n",
            "Epoch 8/30\n",
            "4/4 [==============================] - 1s 175ms/step - loss: 0.1405 - accuracy: 1.0000 - val_loss: 0.6987 - val_accuracy: 0.5265\n",
            "Epoch 9/30\n",
            "4/4 [==============================] - 1s 438ms/step - loss: 0.1314 - accuracy: 1.0000 - val_loss: 0.6992 - val_accuracy: 0.5268\n",
            "Epoch 10/30\n",
            "4/4 [==============================] - 1s 443ms/step - loss: 0.1223 - accuracy: 1.0000 - val_loss: 0.6999 - val_accuracy: 0.5249\n",
            "Epoch 11/30\n",
            "4/4 [==============================] - 1s 216ms/step - loss: 0.1137 - accuracy: 1.0000 - val_loss: 0.7007 - val_accuracy: 0.5250\n",
            "Epoch 12/30\n",
            "4/4 [==============================] - 1s 220ms/step - loss: 0.1056 - accuracy: 1.0000 - val_loss: 0.7014 - val_accuracy: 0.5256\n",
            "Epoch 13/30\n",
            "4/4 [==============================] - 0s 163ms/step - loss: 0.0976 - accuracy: 1.0000 - val_loss: 0.7018 - val_accuracy: 0.5242\n",
            "Epoch 14/30\n",
            "4/4 [==============================] - 1s 219ms/step - loss: 0.0904 - accuracy: 1.0000 - val_loss: 0.7023 - val_accuracy: 0.5259\n",
            "Epoch 15/30\n",
            "4/4 [==============================] - 0s 160ms/step - loss: 0.0838 - accuracy: 1.0000 - val_loss: 0.7034 - val_accuracy: 0.5250\n",
            "Epoch 16/30\n",
            "4/4 [==============================] - 1s 219ms/step - loss: 0.0778 - accuracy: 1.0000 - val_loss: 0.7045 - val_accuracy: 0.5254\n",
            "Epoch 17/30\n",
            "4/4 [==============================] - 1s 219ms/step - loss: 0.0724 - accuracy: 1.0000 - val_loss: 0.7053 - val_accuracy: 0.5253\n",
            "Epoch 18/30\n",
            "4/4 [==============================] - 1s 219ms/step - loss: 0.0670 - accuracy: 1.0000 - val_loss: 0.7063 - val_accuracy: 0.5253\n",
            "Epoch 19/30\n",
            "4/4 [==============================] - 1s 166ms/step - loss: 0.0622 - accuracy: 1.0000 - val_loss: 0.7078 - val_accuracy: 0.5262\n",
            "Epoch 20/30\n",
            "4/4 [==============================] - 1s 219ms/step - loss: 0.0577 - accuracy: 1.0000 - val_loss: 0.7088 - val_accuracy: 0.5261\n",
            "Epoch 21/30\n",
            "4/4 [==============================] - 1s 220ms/step - loss: 0.0535 - accuracy: 1.0000 - val_loss: 0.7103 - val_accuracy: 0.5263\n",
            "Epoch 22/30\n",
            "4/4 [==============================] - 1s 164ms/step - loss: 0.0497 - accuracy: 1.0000 - val_loss: 0.7109 - val_accuracy: 0.5260\n",
            "Epoch 23/30\n",
            "4/4 [==============================] - 0s 158ms/step - loss: 0.0457 - accuracy: 1.0000 - val_loss: 0.7117 - val_accuracy: 0.5276\n",
            "Epoch 24/30\n",
            "4/4 [==============================] - 1s 219ms/step - loss: 0.0421 - accuracy: 1.0000 - val_loss: 0.7136 - val_accuracy: 0.5252\n",
            "Epoch 25/30\n",
            "4/4 [==============================] - 1s 219ms/step - loss: 0.0389 - accuracy: 1.0000 - val_loss: 0.7142 - val_accuracy: 0.5269\n",
            "Epoch 26/30\n",
            "4/4 [==============================] - 1s 169ms/step - loss: 0.0362 - accuracy: 1.0000 - val_loss: 0.7149 - val_accuracy: 0.5280\n",
            "Epoch 27/30\n",
            "4/4 [==============================] - 1s 165ms/step - loss: 0.0334 - accuracy: 1.0000 - val_loss: 0.7159 - val_accuracy: 0.5266\n",
            "Epoch 28/30\n",
            "4/4 [==============================] - 1s 188ms/step - loss: 0.0309 - accuracy: 1.0000 - val_loss: 0.7177 - val_accuracy: 0.5269\n",
            "Epoch 29/30\n",
            "4/4 [==============================] - 1s 440ms/step - loss: 0.0287 - accuracy: 1.0000 - val_loss: 0.7186 - val_accuracy: 0.5257\n",
            "Epoch 30/30\n",
            "4/4 [==============================] - 1s 231ms/step - loss: 0.0266 - accuracy: 1.0000 - val_loss: 0.7199 - val_accuracy: 0.5262\n"
          ]
        }
      ]
    },
    {
      "cell_type": "code",
      "source": [
        "accuracy = Model_2.history['accuracy']\n",
        "val_accuracy = Model_2.history['val_accuracy']\n",
        "\n",
        "loss = Model_2.history[\"loss\"]\n",
        "val_loss = Model_2.history[\"val_loss\"]\n",
        "\n",
        "epochs = range(1, len(accuracy) + 1)\n",
        "\n",
        "plt.figure(figsize=(6,4))\n",
        "plt.plot(epochs, accuracy, color=\"black\", linestyle=\"solid\", label=\"Train Accuracy\")\n",
        "plt.plot(epochs, val_accuracy, color=\"red\",linestyle=\"solid\", label=\"Validation Accuracy\")\n",
        "plt.title(\"Accuracy\")\n",
        "plt.legend()\n",
        "plt.figure()\n",
        "\n",
        "plt.figure(figsize=(6,4))\n",
        "plt.plot(epochs, loss, color=\"black\", linestyle=\"solid\", label=\"Train Loss\")\n",
        "plt.plot(epochs, val_loss, color=\"red\", linestyle=\"solid\", label=\"Validation Loss\")\n",
        "plt.title(\"Loss\")\n",
        "plt.legend()\n",
        "plt.show()"
      ],
      "metadata": {
        "colab": {
          "base_uri": "https://localhost:8080/",
          "height": 783
        },
        "id": "ob2sxMOXAFKR",
        "outputId": "02bbecd2-77e1-4600-acc1-700173b3bb5e"
      },
      "execution_count": 61,
      "outputs": [
        {
          "output_type": "display_data",
          "data": {
            "text/plain": [
              "<Figure size 600x400 with 1 Axes>"
            ],
            "image/png": "[encoded data removed]"
          },
          "metadata": {}
        },
        {
          "output_type": "display_data",
          "data": {
            "text/plain": [
              "<Figure size 640x480 with 0 Axes>"
            ]
          },
          "metadata": {}
        },
        {
          "output_type": "display_data",
          "data": {
            "text/plain": [
              "<Figure size 600x400 with 1 Axes>"
            ],
            "image/png": "[encoded data removed]"
          },
          "metadata": {}
        }
      ]
    },
    {
      "cell_type": "code",
      "source": [
        "train_data_10000 = train_data[:10000]\n",
        "train_labels_10000 = train_labels[:10000]"
      ],
      "metadata": {
        "id": "7SuMPHsHAFSp"
      },
      "execution_count": 64,
      "outputs": []
    },
    {
      "cell_type": "code",
      "source": [
        "model_embedding_10000 = Sequential()\n",
        "model_embedding_10000.add(Embedding(num_words, 32, input_length=maxlen))\n",
        "model_embedding_10000.add(Flatten())\n",
        "model_embedding_10000.add(Dense(1, activation='sigmoid'))"
      ],
      "metadata": {
        "id": "1_i87rE8AFUY"
      },
      "execution_count": 65,
      "outputs": []
    },
    {
      "cell_type": "code",
      "source": [
        "model_embedding_10000.compile(optimizer='rmsprop', loss='binary_crossentropy', metrics=['accuracy'])\n",
        "model_embedding_10000.summary()"
      ],
      "metadata": {
        "colab": {
          "base_uri": "https://localhost:8080/"
        },
        "id": "CvaqwdjNAFX5",
        "outputId": "ad73a37d-2c0b-4ce8-8810-47e09d73756a"
      },
      "execution_count": 66,
      "outputs": [
        {
          "output_type": "stream",
          "name": "stdout",
          "text": [
            "Model: \"sequential_8\"\n",
            "_________________________________________________________________\n",
            " Layer (type)                Output Shape              Param #   \n",
            "=================================================================\n",
            " embedding_4 (Embedding)     (None, 150, 32)           320000    \n",
            "                                                                 \n",
            " flatten_3 (Flatten)         (None, 4800)              0         \n",
            "                                                                 \n",
            " dense_4 (Dense)             (None, 1)                 4801      \n",
            "                                                                 \n",
            "=================================================================\n",
            "Total params: 324801 (1.24 MB)\n",
            "Trainable params: 324801 (1.24 MB)\n",
            "Non-trainable params: 0 (0.00 Byte)\n",
            "_________________________________________________________________\n"
          ]
        }
      ]
    },
    {
      "cell_type": "code",
      "source": [
        "callbacks_10000 = ModelCheckpoint(\n",
        "    filepath=\"model3.h5\",\n",
        "    save_best_only=True,\n",
        "    monitor=\"val_loss\"\n",
        ")"
      ],
      "metadata": {
        "id": "mzphMu4qB_Qd"
      },
      "execution_count": 67,
      "outputs": []
    },
    {
      "cell_type": "code",
      "source": [
        "Model_3 = model.fit(train_data, train_labels,\n",
        "                    epochs=30,\n",
        "                    batch_size=32,\n",
        "                    validation_data=(val_texts, val_labels),\n",
        "                    callbacks=[callbacks])"
      ],
      "metadata": {
        "colab": {
          "base_uri": "https://localhost:8080/"
        },
        "id": "MF4vQ5z_B_T_",
        "outputId": "a1db5387-50ee-4658-c9d4-c5ad4e019ad8"
      },
      "execution_count": 68,
      "outputs": [
        {
          "output_type": "stream",
          "name": "stdout",
          "text": [
            "Epoch 1/30\n",
            "4/4 [==============================] - 1s 460ms/step - loss: 0.0247 - accuracy: 1.0000 - val_loss: 0.7213 - val_accuracy: 0.5263\n",
            "Epoch 2/30\n",
            "4/4 [==============================] - 1s 220ms/step - loss: 0.0229 - accuracy: 1.0000 - val_loss: 0.7227 - val_accuracy: 0.5261\n",
            "Epoch 3/30\n",
            "4/4 [==============================] - 1s 171ms/step - loss: 0.0211 - accuracy: 1.0000 - val_loss: 0.7237 - val_accuracy: 0.5251\n",
            "Epoch 4/30\n",
            "4/4 [==============================] - 1s 220ms/step - loss: 0.0196 - accuracy: 1.0000 - val_loss: 0.7255 - val_accuracy: 0.5250\n",
            "Epoch 5/30\n",
            "4/4 [==============================] - 1s 181ms/step - loss: 0.0181 - accuracy: 1.0000 - val_loss: 0.7274 - val_accuracy: 0.5247\n",
            "Epoch 6/30\n",
            "4/4 [==============================] - 1s 220ms/step - loss: 0.0168 - accuracy: 1.0000 - val_loss: 0.7292 - val_accuracy: 0.5250\n",
            "Epoch 7/30\n",
            "4/4 [==============================] - 1s 219ms/step - loss: 0.0155 - accuracy: 1.0000 - val_loss: 0.7301 - val_accuracy: 0.5242\n",
            "Epoch 8/30\n",
            "4/4 [==============================] - 1s 219ms/step - loss: 0.0145 - accuracy: 1.0000 - val_loss: 0.7317 - val_accuracy: 0.5250\n",
            "Epoch 9/30\n",
            "4/4 [==============================] - 1s 221ms/step - loss: 0.0134 - accuracy: 1.0000 - val_loss: 0.7334 - val_accuracy: 0.5253\n",
            "Epoch 10/30\n",
            "4/4 [==============================] - 1s 220ms/step - loss: 0.0124 - accuracy: 1.0000 - val_loss: 0.7353 - val_accuracy: 0.5241\n",
            "Epoch 11/30\n",
            "4/4 [==============================] - 0s 163ms/step - loss: 0.0114 - accuracy: 1.0000 - val_loss: 0.7361 - val_accuracy: 0.5246\n",
            "Epoch 12/30\n",
            "4/4 [==============================] - 1s 221ms/step - loss: 0.0107 - accuracy: 1.0000 - val_loss: 0.7381 - val_accuracy: 0.5255\n",
            "Epoch 13/30\n",
            "4/4 [==============================] - 1s 170ms/step - loss: 0.0101 - accuracy: 1.0000 - val_loss: 0.7400 - val_accuracy: 0.5244\n",
            "Epoch 14/30\n",
            "4/4 [==============================] - 1s 219ms/step - loss: 0.0095 - accuracy: 1.0000 - val_loss: 0.7416 - val_accuracy: 0.5241\n",
            "Epoch 15/30\n",
            "4/4 [==============================] - 1s 219ms/step - loss: 0.0089 - accuracy: 1.0000 - val_loss: 0.7425 - val_accuracy: 0.5246\n",
            "Epoch 16/30\n",
            "4/4 [==============================] - 1s 167ms/step - loss: 0.0083 - accuracy: 1.0000 - val_loss: 0.7437 - val_accuracy: 0.5247\n",
            "Epoch 17/30\n",
            "4/4 [==============================] - 1s 432ms/step - loss: 0.0078 - accuracy: 1.0000 - val_loss: 0.7446 - val_accuracy: 0.5251\n",
            "Epoch 18/30\n",
            "4/4 [==============================] - 1s 443ms/step - loss: 0.0074 - accuracy: 1.0000 - val_loss: 0.7471 - val_accuracy: 0.5237\n",
            "Epoch 19/30\n",
            "4/4 [==============================] - 1s 440ms/step - loss: 0.0069 - accuracy: 1.0000 - val_loss: 0.7485 - val_accuracy: 0.5242\n",
            "Epoch 20/30\n",
            "4/4 [==============================] - 1s 222ms/step - loss: 0.0065 - accuracy: 1.0000 - val_loss: 0.7493 - val_accuracy: 0.5244\n",
            "Epoch 21/30\n",
            "4/4 [==============================] - 1s 222ms/step - loss: 0.0061 - accuracy: 1.0000 - val_loss: 0.7512 - val_accuracy: 0.5235\n",
            "Epoch 22/30\n",
            "4/4 [==============================] - 1s 221ms/step - loss: 0.0057 - accuracy: 1.0000 - val_loss: 0.7525 - val_accuracy: 0.5231\n",
            "Epoch 23/30\n",
            "4/4 [==============================] - 1s 173ms/step - loss: 0.0054 - accuracy: 1.0000 - val_loss: 0.7534 - val_accuracy: 0.5231\n",
            "Epoch 24/30\n",
            "4/4 [==============================] - 1s 222ms/step - loss: 0.0051 - accuracy: 1.0000 - val_loss: 0.7561 - val_accuracy: 0.5240\n",
            "Epoch 25/30\n",
            "4/4 [==============================] - 1s 175ms/step - loss: 0.0048 - accuracy: 1.0000 - val_loss: 0.7572 - val_accuracy: 0.5240\n",
            "Epoch 26/30\n",
            "4/4 [==============================] - 1s 168ms/step - loss: 0.0045 - accuracy: 1.0000 - val_loss: 0.7592 - val_accuracy: 0.5237\n",
            "Epoch 27/30\n",
            "4/4 [==============================] - 1s 220ms/step - loss: 0.0043 - accuracy: 1.0000 - val_loss: 0.7599 - val_accuracy: 0.5232\n",
            "Epoch 28/30\n",
            "4/4 [==============================] - 1s 174ms/step - loss: 0.0041 - accuracy: 1.0000 - val_loss: 0.7622 - val_accuracy: 0.5232\n",
            "Epoch 29/30\n",
            "4/4 [==============================] - 1s 219ms/step - loss: 0.0039 - accuracy: 1.0000 - val_loss: 0.7645 - val_accuracy: 0.5235\n",
            "Epoch 30/30\n",
            "4/4 [==============================] - 1s 439ms/step - loss: 0.0037 - accuracy: 1.0000 - val_loss: 0.7664 - val_accuracy: 0.5234\n"
          ]
        }
      ]
    },
    {
      "cell_type": "code",
      "source": [
        "accuracy = Model_3.history['accuracy']\n",
        "val_accuracy = Model_3.history['val_accuracy']\n",
        "\n",
        "loss = Model_3.history[\"loss\"]\n",
        "val_loss = Model_3.history[\"val_loss\"]\n",
        "\n",
        "epochs = range(1, len(accuracy) + 1)\n",
        "\n",
        "plt.figure(figsize=(6,4))\n",
        "plt.plot(epochs, accuracy, color=\"black\", linestyle=\"solid\", label=\"Train Accuracy\")\n",
        "plt.plot(epochs, val_accuracy, color=\"red\",linestyle=\"solid\", label=\"Validation Accuracy\")\n",
        "plt.title(\"Accuracy\")\n",
        "plt.legend()\n",
        "plt.figure()\n",
        "\n",
        "plt.figure(figsize=(6,4))\n",
        "plt.plot(epochs, loss, color=\"black\", linestyle=\"solid\", label=\"Train Loss\")\n",
        "plt.plot(epochs, val_loss, color=\"red\", linestyle=\"solid\", label=\"Validation Loss\")\n",
        "plt.title(\"Loss\")\n",
        "plt.legend()\n",
        "plt.show()"
      ],
      "metadata": {
        "colab": {
          "base_uri": "https://localhost:8080/",
          "height": 783
        },
        "id": "t3YyF0k1B_cq",
        "outputId": "cf502c2a-aedf-4d12-fa86-30665aab13c9"
      },
      "execution_count": 73,
      "outputs": [
        {
          "output_type": "display_data",
          "data": {
            "text/plain": [
              "<Figure size 600x400 with 1 Axes>"
            ],
            "image/png": "[encoded data removed]"
          },
          "metadata": {}
        },
        {
          "output_type": "display_data",
          "data": {
            "text/plain": [
              "<Figure size 640x480 with 0 Axes>"
            ]
          },
          "metadata": {}
        },
        {
          "output_type": "display_data",
          "data": {
            "text/plain": [
              "<Figure size 600x400 with 1 Axes>"
            ],
            "image/png": "[encoded data removed]"
          },
          "metadata": {}
        }
      ]
    }
  ]
}